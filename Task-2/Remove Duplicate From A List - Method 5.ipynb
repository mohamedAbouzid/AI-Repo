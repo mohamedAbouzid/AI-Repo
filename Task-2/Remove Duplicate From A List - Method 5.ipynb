{
 "cells": [
  {
   "cell_type": "markdown",
   "id": "e5f9b3e8",
   "metadata": {},
   "source": [
    "## Remove Duplicate Values By - Recursion Method"
   ]
  },
  {
   "cell_type": "code",
   "execution_count": 10,
   "id": "658edefa",
   "metadata": {
    "ExecuteTime": {
     "end_time": "2021-12-31T13:48:26.982475Z",
     "start_time": "2021-12-31T13:48:26.960473Z"
    }
   },
   "outputs": [
    {
     "name": "stdout",
     "output_type": "stream",
     "text": [
      "['first', 'second', 'third', 1, 'mohamed', 2, 'ahmed', 3, 'ali']\n"
     ]
    }
   ],
   "source": [
    "mainList = ['first', 1, 2, 3, 'second', 'mohamed', 'ahmed', 'ali', 'third', 1, 'mohamed', 2, 'ahmed', 3, 'ali']\n",
    "\n",
    "def cleanList(list):\n",
    "    if len(list) == 1:\n",
    "        return list\n",
    "    \n",
    "    if list[0] in list[1:]:\n",
    "        return cleanList(list[1:])\n",
    "        \n",
    "    return [list[0]]+ cleanList(list[1:])\n",
    "        \n",
    "print(cleanList(mainList))"
   ]
  }
 ],
 "metadata": {
  "kernelspec": {
   "display_name": "Python 3",
   "language": "python",
   "name": "python3"
  },
  "language_info": {
   "codemirror_mode": {
    "name": "ipython",
    "version": 3
   },
   "file_extension": ".py",
   "mimetype": "text/x-python",
   "name": "python",
   "nbconvert_exporter": "python",
   "pygments_lexer": "ipython3",
   "version": "3.8.8"
  }
 },
 "nbformat": 4,
 "nbformat_minor": 5
}
