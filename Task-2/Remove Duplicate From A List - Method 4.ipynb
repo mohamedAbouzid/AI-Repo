{
 "cells": [
  {
   "cell_type": "markdown",
   "id": "3ad1ec11",
   "metadata": {},
   "source": [
    "## Remove Duplicate Values By - Enumerate Method"
   ]
  },
  {
   "cell_type": "code",
   "execution_count": 1,
   "id": "117cfac0",
   "metadata": {
    "ExecuteTime": {
     "end_time": "2021-12-31T13:30:40.976471Z",
     "start_time": "2021-12-31T13:30:40.957474Z"
    }
   },
   "outputs": [
    {
     "name": "stdout",
     "output_type": "stream",
     "text": [
      "['first', 1, 2, 3, 'second', 'mohamed', 'ahmed', 'ali', 'third']\n"
     ]
    }
   ],
   "source": [
    "mainList = ['first', 1, 2, 3, 'second', 'mohamed', 'ahmed', 'ali', 'third', 1, 'mohamed', 2, 'ahmed', 3, 'ali']\n",
    "\n",
    "cleanList = [item for i, item in enumerate(mainList) if item not in mainList[:i]]\n",
    "        \n",
    "print(cleanList)"
   ]
  }
 ],
 "metadata": {
  "kernelspec": {
   "display_name": "Python 3",
   "language": "python",
   "name": "python3"
  },
  "language_info": {
   "codemirror_mode": {
    "name": "ipython",
    "version": 3
   },
   "file_extension": ".py",
   "mimetype": "text/x-python",
   "name": "python",
   "nbconvert_exporter": "python",
   "pygments_lexer": "ipython3",
   "version": "3.8.8"
  }
 },
 "nbformat": 4,
 "nbformat_minor": 5
}
