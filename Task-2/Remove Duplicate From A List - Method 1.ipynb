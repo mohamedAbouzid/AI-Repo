{
 "cells": [
  {
   "cell_type": "markdown",
   "id": "cf4a47f4",
   "metadata": {},
   "source": [
    "## Remove Duplicate Values By - Set Method"
   ]
  },
  {
   "cell_type": "code",
   "execution_count": 1,
   "id": "c66872bc",
   "metadata": {
    "ExecuteTime": {
     "end_time": "2021-12-31T12:29:37.842500Z",
     "start_time": "2021-12-31T12:29:37.830503Z"
    }
   },
   "outputs": [
    {
     "name": "stdout",
     "output_type": "stream",
     "text": [
      "[1, 2, 3, 'mohamed', 'ali', 'ahmed', 'second', 'third', 'first']\n"
     ]
    }
   ],
   "source": [
    "mainList = ['first', 1, 2, 3, 'second', 'mohamed', 'ahmed', 'ali', 'third', 1, 'mohamed', 2, 'ahmed', 3, 'ali']\n",
    "\n",
    "print(list(set(mainList)))"
   ]
  }
 ],
 "metadata": {
  "kernelspec": {
   "display_name": "Python 3",
   "language": "python",
   "name": "python3"
  },
  "language_info": {
   "codemirror_mode": {
    "name": "ipython",
    "version": 3
   },
   "file_extension": ".py",
   "mimetype": "text/x-python",
   "name": "python",
   "nbconvert_exporter": "python",
   "pygments_lexer": "ipython3",
   "version": "3.8.8"
  }
 },
 "nbformat": 4,
 "nbformat_minor": 5
}
