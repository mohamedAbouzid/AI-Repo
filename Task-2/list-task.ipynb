{
 "cells": [
  {
   "cell_type": "markdown",
   "id": "d877dae1",
   "metadata": {
    "scrolled": true
   },
   "source": [
    "### List Challenge\n",
    "1. create a list has 30 elements by one line and not manually.\n",
    "2. add to the list 15 elements repeated.\n",
    "3. copy the list in another list.\n",
    "4. remove repeated values in two ways.\n",
    "5. loop in one list where counter * 3."
   ]
  },
  {
   "cell_type": "code",
   "execution_count": 1,
   "id": "3f1c57c5",
   "metadata": {
    "ExecuteTime": {
     "end_time": "2021-12-24T11:27:56.439793Z",
     "start_time": "2021-12-24T11:27:56.416331Z"
    },
    "scrolled": true
   },
   "outputs": [
    {
     "name": "stdout",
     "output_type": "stream",
     "text": [
      "[1, 2, 3, 4, 5, 6, 7, 8, 9, 10, 11, 12, 13, 14, 15, 16, 17, 18, 19, 20, 21, 22, 23, 24, 25, 26, 27, 28, 29, 30, 1, 2, 3, 4, 5, 6, 7, 8, 9, 10, 11, 12, 13, 14, 15]\n"
     ]
    }
   ],
   "source": [
    "myList = list(range(1,31))\n",
    "myList.extend(list(range(1,16)))\n",
    "newList = myList.copy()\n",
    "print(newList)"
   ]
  },
  {
   "cell_type": "code",
   "execution_count": 3,
   "id": "7480dd3f",
   "metadata": {
    "ExecuteTime": {
     "end_time": "2021-12-24T11:28:06.226332Z",
     "start_time": "2021-12-24T11:28:06.215333Z"
    },
    "scrolled": true
   },
   "outputs": [
    {
     "name": "stdout",
     "output_type": "stream",
     "text": [
      "[1, 2, 3, 4, 5, 6, 7, 8, 9, 10, 11, 12, 13, 14, 15, 16, 17, 18, 19, 20, 21, 22, 23, 24, 25, 26, 27, 28, 29, 30]\n"
     ]
    }
   ],
   "source": [
    "# remove repeated values in newList\n",
    "unrepeatedList = []\n",
    "for item in newList:\n",
    "    if item not in unrepeatedList:\n",
    "        unrepeatedList.append(item)\n",
    "print(unrepeatedList)"
   ]
  },
  {
   "cell_type": "code",
   "execution_count": 4,
   "id": "e59c6399",
   "metadata": {
    "ExecuteTime": {
     "end_time": "2021-12-24T11:28:08.993334Z",
     "start_time": "2021-12-24T11:28:08.987333Z"
    }
   },
   "outputs": [
    {
     "name": "stdout",
     "output_type": "stream",
     "text": [
      "[1, 2, 3, 4, 5, 6, 7, 8, 9, 10, 11, 12, 13, 14, 15, 16, 17, 18, 19, 20, 21, 22, 23, 24, 25, 26, 27, 28, 29, 30]\n"
     ]
    }
   ],
   "source": [
    "# remove repeated values in myList\n",
    "unrepeatedList2 = list(set(myList))\n",
    "print(unrepeatedList2)"
   ]
  },
  {
   "cell_type": "code",
   "execution_count": 6,
   "id": "08fd0f3b",
   "metadata": {
    "ExecuteTime": {
     "end_time": "2021-12-24T11:37:44.326330Z",
     "start_time": "2021-12-24T11:37:44.309332Z"
    }
   },
   "outputs": [
    {
     "name": "stdout",
     "output_type": "stream",
     "text": [
      "[1, 2, 4, 10, 28]\n"
     ]
    }
   ],
   "source": [
    "# loop on unrepeatedList\n",
    "i, finalList = 0, []\n",
    "while i < len(unrepeatedList):\n",
    "    finalList.append(unrepeatedList[i])\n",
    "    if i == 0:\n",
    "        i+=1\n",
    "    else:\n",
    "        i *=3\n",
    "print(finalList)"
   ]
  }
 ],
 "metadata": {
  "kernelspec": {
   "display_name": "Python 3",
   "language": "python",
   "name": "python3"
  },
  "language_info": {
   "codemirror_mode": {
    "name": "ipython",
    "version": 3
   },
   "file_extension": ".py",
   "mimetype": "text/x-python",
   "name": "python",
   "nbconvert_exporter": "python",
   "pygments_lexer": "ipython3",
   "version": "3.8.8"
  }
 },
 "nbformat": 4,
 "nbformat_minor": 5
}
